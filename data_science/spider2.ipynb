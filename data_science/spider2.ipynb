{
 "cells": [
  {
   "cell_type": "code",
   "execution_count": 11,
   "metadata": {},
   "outputs": [],
   "source": [
    "from dputils.scrape import extract_many, get_webpage_data"
   ]
  },
  {
   "cell_type": "code",
   "execution_count": 12,
   "metadata": {},
   "outputs": [],
   "source": [
    "url = \"https://www.flipkart.com/search?q=mobiles&otracker=search&otracker1=search&marketplace=FLIPKART&as-show=on&as=off\"\n",
    "soup = get_webpage_data(url)"
   ]
  },
  {
   "cell_type": "code",
   "execution_count": 13,
   "metadata": {},
   "outputs": [],
   "source": [
    "target = {\n",
    "'tag': 'div',\n",
    "'attrs':{'class':'_1YokD2 _3Mn1Gg'}\n",
    "}\n",
    "items = {\n",
    "    'tag': 'div',\n",
    "    'attrs':{'class':'_1AtVbE col-12-12'}\n",
    "}\n",
    "title = {\n",
    "    'tag': 'div',\n",
    "    'attrs':{'class':'_4rR01T'}\n",
    "}\n",
    "price = {\n",
    "    'tag': 'div',\n",
    "    'attrs':{'class':'_30jeq3 _1_WHN1'}\n",
    "}\n",
    "rating = {\n",
    "    'tag': 'div',\n",
    "    'attrs':{'class':'_3LWZlK'}\n",
    "}\n",
    "link = {\n",
    "    'tag': 'a',\n",
    "    'attrs':{'class':'_1fQZEK'},\n",
    "    'output':'href'\n",
    "}"
   ]
  },
  {
   "cell_type": "code",
   "execution_count": 15,
   "metadata": {},
   "outputs": [
    {
     "name": "stdout",
     "output_type": "stream",
     "text": [
      "26 items found\n",
      "Item skipped at index: 24\n",
      "Item skipped at index: 25\n",
      "All items extracted\n"
     ]
    }
   ],
   "source": [
    "out= extract_many(soup, target=target, items=items, title=title, price=price, rating=rating, link=link)"
   ]
  },
  {
   "cell_type": "code",
   "execution_count": 16,
   "metadata": {},
   "outputs": [
    {
     "name": "stdout",
     "output_type": "stream",
     "text": [
      "[{'title': 'SAMSUNG Galaxy F22 (Denim Blue, 64 GB)', 'price': '₹10,499', 'rating': '4.3', 'link': '/samsung-galaxy-f22-denim-blue-64-gb/p/itmce0a6baf0d54d?pid=MOBG43UGBTGGB99V&lid=LSTMOBG43UGBTGGB99VLZACSD&marketplace=FLIPKART&q=mobiles&store=tyy%2F4io&srno=s_1_1&otracker=search&otracker1=search&fm=organic&iid=868521fa-bd5f-4aa8-b765-e1708f4a75fa.MOBG43UGBTGGB99V.SEARCH&ppt=None&ppn=None&ssid=e0lz3cn10g0000001662664355488&qH=eb4af0bf07c16429'}, {'title': 'SAMSUNG Galaxy F22 (Denim Black, 64 GB)', 'price': '₹10,499', 'rating': '4.3', 'link': '/samsung-galaxy-f22-denim-black-64-gb/p/itm6f47a19cb79ae?pid=MOBG43UGC3PYCBZF&lid=LSTMOBG43UGC3PYCBZFSIRYTE&marketplace=FLIPKART&q=mobiles&store=tyy%2F4io&srno=s_1_2&otracker=search&otracker1=search&fm=organic&iid=868521fa-bd5f-4aa8-b765-e1708f4a75fa.MOBG43UGC3PYCBZF.SEARCH&ppt=None&ppn=None&ssid=e0lz3cn10g0000001662664355488&qH=eb4af0bf07c16429'}, {'title': 'realme C31 (Dark Green, 32 GB)', 'price': '₹8,299', 'rating': '4.6', 'link': '/realme-c31-dark-green-32-gb/p/itme0f2960da9bbb?pid=MOBGCGVAXYT3EGYR&lid=LSTMOBGCGVAXYT3EGYRKW4CXL&marketplace=FLIPKART&q=mobiles&store=tyy%2F4io&srno=s_1_3&otracker=search&otracker1=search&fm=organic&iid=868521fa-bd5f-4aa8-b765-e1708f4a75fa.MOBGCGVAXYT3EGYR.SEARCH&ppt=None&ppn=None&ssid=e0lz3cn10g0000001662664355488&qH=eb4af0bf07c16429'}, {'title': 'realme C31 (Light Silver, 32 GB)', 'price': '₹8,299', 'rating': '4.6', 'link': '/realme-c31-light-silver-32-gb/p/itme0f2960da9bbb?pid=MOBGCGVA3DANQNQH&lid=LSTMOBGCGVA3DANQNQHVUTE0C&marketplace=FLIPKART&q=mobiles&store=tyy%2F4io&srno=s_1_4&otracker=search&otracker1=search&fm=organic&iid=868521fa-bd5f-4aa8-b765-e1708f4a75fa.MOBGCGVA3DANQNQH.SEARCH&ppt=None&ppn=None&ssid=e0lz3cn10g0000001662664355488&qH=eb4af0bf07c16429'}, {'title': 'realme 9 (Sunburst Gold, 128 GB)', 'price': '₹14,499', 'rating': '4.4', 'link': '/realme-9-sunburst-gold-128-gb/p/itm73722a6d35d36?pid=MOBGDYSHHVWMECHS&lid=LSTMOBGDYSHHVWMECHSSFA2GZ&marketplace=FLIPKART&q=mobiles&store=tyy%2F4io&srno=s_1_5&otracker=search&otracker1=search&fm=organic&iid=868521fa-bd5f-4aa8-b765-e1708f4a75fa.MOBGDYSHHVWMECHS.SEARCH&ppt=None&ppn=None&ssid=e0lz3cn10g0000001662664355488&qH=eb4af0bf07c16429'}, {'title': 'SAMSUNG Galaxy F22 (Denim Blue, 128 GB)', 'price': '₹12,499', 'rating': '4.3', 'link': '/samsung-galaxy-f22-denim-blue-128-gb/p/itm30c755943bea0?pid=MOBG43UGRSMJXTMH&lid=LSTMOBG43UGRSMJXTMH8AUDHE&marketplace=FLIPKART&q=mobiles&store=tyy%2F4io&srno=s_1_6&otracker=search&otracker1=search&fm=organic&iid=868521fa-bd5f-4aa8-b765-e1708f4a75fa.MOBG43UGRSMJXTMH.SEARCH&ppt=None&ppn=None&ssid=e0lz3cn10g0000001662664355488&qH=eb4af0bf07c16429'}, {'title': 'Nokia 105 SS', 'price': '₹1,299', 'rating': '4.1', 'link': '/nokia-105-ss/p/itm9ac157d27f741?pid=MOBGC96FVTHVNXNH&lid=LSTMOBGC96FVTHVNXNHGPCV73&marketplace=FLIPKART&q=mobiles&store=tyy%2F4io&srno=s_1_7&otracker=search&otracker1=search&fm=organic&iid=868521fa-bd5f-4aa8-b765-e1708f4a75fa.MOBGC96FVTHVNXNH.SEARCH&ppt=None&ppn=None&ssid=e0lz3cn10g0000001662664355488&qH=eb4af0bf07c16429'}, {'title': 'realme C31 (Light Silver, 64 GB)', 'price': '₹9,499', 'rating': '4.4', 'link': '/realme-c31-light-silver-64-gb/p/itme0f2960da9bbb?pid=MOBGCGVAGUHQ9HNJ&lid=LSTMOBGCGVAGUHQ9HNJMCFWUX&marketplace=FLIPKART&q=mobiles&store=tyy%2F4io&srno=s_1_8&otracker=search&otracker1=search&fm=organic&iid=868521fa-bd5f-4aa8-b765-e1708f4a75fa.MOBGCGVAGUHQ9HNJ.SEARCH&ppt=None&ppn=None&ssid=e0lz3cn10g0000001662664355488&qH=eb4af0bf07c16429'}, {'title': 'realme C31 (Dark Green, 64 GB)', 'price': '₹9,499', 'rating': '4.4', 'link': '/realme-c31-dark-green-64-gb/p/itme0f2960da9bbb?pid=MOBGCGVAZXRCZJNE&lid=LSTMOBGCGVAZXRCZJNENAINFL&marketplace=FLIPKART&q=mobiles&store=tyy%2F4io&srno=s_1_9&otracker=search&otracker1=search&fm=organic&iid=868521fa-bd5f-4aa8-b765-e1708f4a75fa.MOBGCGVAZXRCZJNE.SEARCH&ppt=None&ppn=None&ssid=e0lz3cn10g0000001662664355488&qH=eb4af0bf07c16429'}, {'title': 'realme 9 (Sunburst Gold, 128 GB)', 'price': '₹17,999', 'rating': '4.4', 'link': '/realme-9-sunburst-gold-128-gb/p/itm73722a6d35d36?pid=MOBGDYSH8EWQZ4XU&lid=LSTMOBGDYSH8EWQZ4XUTALWYH&marketplace=FLIPKART&q=mobiles&store=tyy%2F4io&srno=s_1_10&otracker=search&otracker1=search&fm=organic&iid=868521fa-bd5f-4aa8-b765-e1708f4a75fa.MOBGDYSH8EWQZ4XU.SEARCH&ppt=None&ppn=None&ssid=e0lz3cn10g0000001662664355488&qH=eb4af0bf07c16429'}, {'title': 'realme 9 5G (Stargaze White, 64 GB)', 'price': '₹15,999', 'rating': '4.5', 'link': '/realme-9-5g-stargaze-white-64-gb/p/itm4f3814d50ff53?pid=MOBGC2Q5HG5RJZGW&lid=LSTMOBGC2Q5HG5RJZGWWUP6TT&marketplace=FLIPKART&q=mobiles&store=tyy%2F4io&srno=s_1_11&otracker=search&otracker1=search&fm=organic&iid=868521fa-bd5f-4aa8-b765-e1708f4a75fa.MOBGC2Q5HG5RJZGW.SEARCH&ppt=None&ppn=None&ssid=e0lz3cn10g0000001662664355488&qH=eb4af0bf07c16429'}, {'title': 'realme 9 5G (Supersonic Blue, 64 GB)', 'price': '₹15,999', 'rating': '4.5', 'link': '/realme-9-5g-supersonic-blue-64-gb/p/itm4f3814d50ff53?pid=MOBGDGZFXYZ4NFYM&lid=LSTMOBGDGZFXYZ4NFYMHOVCPY&marketplace=FLIPKART&q=mobiles&store=tyy%2F4io&srno=s_1_12&otracker=search&otracker1=search&fm=organic&iid=868521fa-bd5f-4aa8-b765-e1708f4a75fa.MOBGDGZFXYZ4NFYM.SEARCH&ppt=None&ppn=None&ssid=e0lz3cn10g0000001662664355488&qH=eb4af0bf07c16429'}, {'title': 'realme 9 5G (Supersonic Black, 64 GB)', 'price': '₹15,999', 'rating': '4.5', 'link': '/realme-9-5g-supersonic-black-64-gb/p/itm4f3814d50ff53?pid=MOBGDGZFCJH6R3HQ&lid=LSTMOBGDGZFCJH6R3HQONXRVH&marketplace=FLIPKART&q=mobiles&store=tyy%2F4io&srno=s_1_13&otracker=search&otracker1=search&fm=organic&iid=868521fa-bd5f-4aa8-b765-e1708f4a75fa.MOBGDGZFCJH6R3HQ.SEARCH&ppt=None&ppn=None&ssid=e0lz3cn10g0000001662664355488&qH=eb4af0bf07c16429'}, {'title': 'realme 9i (Prism Black, 128 GB)', 'price': '₹12,999', 'rating': '4.5', 'link': '/realme-9i-prism-black-128-gb/p/itm3e9987219f652?pid=MOBGBMZH9X7PQZJZ&lid=LSTMOBGBMZH9X7PQZJZNQTN2Q&marketplace=FLIPKART&q=mobiles&store=tyy%2F4io&srno=s_1_14&otracker=search&otracker1=search&fm=organic&iid=868521fa-bd5f-4aa8-b765-e1708f4a75fa.MOBGBMZH9X7PQZJZ.SEARCH&ppt=None&ppn=None&ssid=e0lz3cn10g0000001662664355488&qH=eb4af0bf07c16429'}, {'title': 'realme 9i (Prism Blue, 128 GB)', 'price': '₹12,999', 'rating': '4.5', 'link': '/realme-9i-prism-blue-128-gb/p/itm3e9987219f652?pid=MOBGBMZHMUHYWFAE&lid=LSTMOBGBMZHMUHYWFAEOYWISO&marketplace=FLIPKART&q=mobiles&store=tyy%2F4io&srno=s_1_15&otracker=search&otracker1=search&fm=organic&iid=868521fa-bd5f-4aa8-b765-e1708f4a75fa.MOBGBMZHMUHYWFAE.SEARCH&ppt=None&ppn=None&ssid=e0lz3cn10g0000001662664355488&qH=eb4af0bf07c16429'}, {'title': 'realme C30 (Bamboo Green, 32 GB)', 'price': '₹7,999', 'rating': '4.1', 'link': '/realme-c30-bamboo-green-32-gb/p/itmfcf69b2db5059?pid=MOBGF37GUWGZQYGR&lid=LSTMOBGF37GUWGZQYGRW97HI6&marketplace=FLIPKART&q=mobiles&store=tyy%2F4io&srno=s_1_16&otracker=search&otracker1=search&fm=organic&iid=868521fa-bd5f-4aa8-b765-e1708f4a75fa.MOBGF37GUWGZQYGR.SEARCH&ppt=None&ppn=None&ssid=e0lz3cn10g0000001662664355488&qH=eb4af0bf07c16429'}, {'title': 'realme C30 (Bamboo Green, 32 GB)', 'price': '₹6,799', 'rating': '4.4', 'link': '/realme-c30-bamboo-green-32-gb/p/itmfcf69b2db5059?pid=MOBGF37G7FRK8FBJ&lid=LSTMOBGF37G7FRK8FBJTETJBD&marketplace=FLIPKART&q=mobiles&store=tyy%2F4io&srno=s_1_17&otracker=search&otracker1=search&fm=organic&iid=868521fa-bd5f-4aa8-b765-e1708f4a75fa.MOBGF37G7FRK8FBJ.SEARCH&ppt=None&ppn=None&ssid=e0lz3cn10g0000001662664355488&qH=eb4af0bf07c16429'}, {'title': 'realme 9 5G (Stargaze White, 128 GB)', 'price': '₹15,999', 'rating': '4.4', 'link': '/realme-9-5g-stargaze-white-128-gb/p/itm4f3814d50ff53?pid=MOBGC2Q5JHRNRFKY&lid=LSTMOBGC2Q5JHRNRFKYVTLV63&marketplace=FLIPKART&q=mobiles&store=tyy%2F4io&srno=s_1_18&otracker=search&otracker1=search&fm=organic&iid=868521fa-bd5f-4aa8-b765-e1708f4a75fa.MOBGC2Q5JHRNRFKY.SEARCH&ppt=None&ppn=None&ssid=e0lz3cn10g0000001662664355488&qH=eb4af0bf07c16429'}, {'title': 'realme 9 5G (Meteor Black, 64 GB)', 'price': '₹15,999', 'rating': '4.5', 'link': '/realme-9-5g-meteor-black-64-gb/p/itm4f3814d50ff53?pid=MOBGC2Q5TGTGRBHR&lid=LSTMOBGC2Q5TGTGRBHRNIVGPU&marketplace=FLIPKART&q=mobiles&store=tyy%2F4io&srno=s_1_19&otracker=search&otracker1=search&fm=organic&iid=868521fa-bd5f-4aa8-b765-e1708f4a75fa.MOBGC2Q5TGTGRBHR.SEARCH&ppt=None&ppn=None&ssid=e0lz3cn10g0000001662664355488&qH=eb4af0bf07c16429'}, {'title': 'realme 9 5G (Meteor Black, 128 GB)', 'price': '₹15,999', 'rating': '4.4', 'link': '/realme-9-5g-meteor-black-128-gb/p/itm4f3814d50ff53?pid=MOBGC2Q58FGNXWSN&lid=LSTMOBGC2Q58FGNXWSNJ3ERYV&marketplace=FLIPKART&q=mobiles&store=tyy%2F4io&srno=s_1_20&otracker=search&otracker1=search&fm=organic&iid=868521fa-bd5f-4aa8-b765-e1708f4a75fa.MOBGC2Q58FGNXWSN.SEARCH&ppt=None&ppn=None&ssid=e0lz3cn10g0000001662664355488&qH=eb4af0bf07c16429'}, {'title': 'realme C30 (Denim Black, 32 GB)', 'price': '₹6,799', 'rating': '4.4', 'link': '/realme-c30-denim-black-32-gb/p/itmfcf69b2db5059?pid=MOBGF37G8TGKHFWJ&lid=LSTMOBGF37G8TGKHFWJIST95C&marketplace=FLIPKART&q=mobiles&store=tyy%2F4io&srno=s_1_21&otracker=search&otracker1=search&fm=organic&iid=868521fa-bd5f-4aa8-b765-e1708f4a75fa.MOBGF37G8TGKHFWJ.SEARCH&ppt=None&ppn=None&ssid=e0lz3cn10g0000001662664355488&qH=eb4af0bf07c16429'}, {'title': 'realme C30 (Lake Blue, 32 GB)', 'price': '₹6,799', 'rating': '4.4', 'link': '/realme-c30-lake-blue-32-gb/p/itmfcf69b2db5059?pid=MOBGF37GTRVMRJVK&lid=LSTMOBGF37GTRVMRJVKRYAJNG&marketplace=FLIPKART&q=mobiles&store=tyy%2F4io&srno=s_1_22&otracker=search&otracker1=search&fm=organic&iid=868521fa-bd5f-4aa8-b765-e1708f4a75fa.MOBGF37GTRVMRJVK.SEARCH&ppt=None&ppn=None&ssid=e0lz3cn10g0000001662664355488&qH=eb4af0bf07c16429'}, {'title': 'realme 9 Pro 5G (Aurora Green, 128 GB)', 'price': '₹16,999', 'rating': '4.3', 'link': '/realme-9-pro-5g-aurora-green-128-gb/p/itmce357e4a0ca24?pid=MOBGB4ZYUBUYWPT4&lid=LSTMOBGB4ZYUBUYWPT4ADTT2R&marketplace=FLIPKART&q=mobiles&store=tyy%2F4io&srno=s_1_23&otracker=search&otracker1=search&fm=organic&iid=868521fa-bd5f-4aa8-b765-e1708f4a75fa.MOBGB4ZYUBUYWPT4.SEARCH&ppt=None&ppn=None&ssid=e0lz3cn10g0000001662664355488&qH=eb4af0bf07c16429'}, {'title': 'vivo T1 5G (Rainbow Fantasy, 128 GB)', 'price': '₹15,990', 'rating': '4.3', 'link': '/vivo-t1-5g-rainbow-fantasy-128-gb/p/itm594222523bd8f?pid=MOBGB9TYGW5NGXVH&lid=LSTMOBGB9TYGW5NGXVHAMNS12&marketplace=FLIPKART&q=mobiles&store=tyy%2F4io&srno=s_1_24&otracker=search&otracker1=search&fm=organic&iid=868521fa-bd5f-4aa8-b765-e1708f4a75fa.MOBGB9TYGW5NGXVH.SEARCH&ppt=None&ppn=None&ssid=e0lz3cn10g0000001662664355488&qH=eb4af0bf07c16429'}]\n"
     ]
    }
   ],
   "source": [
    "print(out)"
   ]
  },
  {
   "cell_type": "code",
   "execution_count": 17,
   "metadata": {},
   "outputs": [
    {
     "name": "stdout",
     "output_type": "stream",
     "text": [
      "                                      title    price rating  \\\n",
      "0    SAMSUNG Galaxy F22 (Denim Blue, 64 GB)  ₹10,499    4.3   \n",
      "1   SAMSUNG Galaxy F22 (Denim Black, 64 GB)  ₹10,499    4.3   \n",
      "2            realme C31 (Dark Green, 32 GB)   ₹8,299    4.6   \n",
      "3          realme C31 (Light Silver, 32 GB)   ₹8,299    4.6   \n",
      "4          realme 9 (Sunburst Gold, 128 GB)  ₹14,499    4.4   \n",
      "5   SAMSUNG Galaxy F22 (Denim Blue, 128 GB)  ₹12,499    4.3   \n",
      "6                              Nokia 105 SS   ₹1,299    4.1   \n",
      "7          realme C31 (Light Silver, 64 GB)   ₹9,499    4.4   \n",
      "8            realme C31 (Dark Green, 64 GB)   ₹9,499    4.4   \n",
      "9          realme 9 (Sunburst Gold, 128 GB)  ₹17,999    4.4   \n",
      "10      realme 9 5G (Stargaze White, 64 GB)  ₹15,999    4.5   \n",
      "11     realme 9 5G (Supersonic Blue, 64 GB)  ₹15,999    4.5   \n",
      "12    realme 9 5G (Supersonic Black, 64 GB)  ₹15,999    4.5   \n",
      "13          realme 9i (Prism Black, 128 GB)  ₹12,999    4.5   \n",
      "14           realme 9i (Prism Blue, 128 GB)  ₹12,999    4.5   \n",
      "15         realme C30 (Bamboo Green, 32 GB)   ₹7,999    4.1   \n",
      "16         realme C30 (Bamboo Green, 32 GB)   ₹6,799    4.4   \n",
      "17     realme 9 5G (Stargaze White, 128 GB)  ₹15,999    4.4   \n",
      "18        realme 9 5G (Meteor Black, 64 GB)  ₹15,999    4.5   \n",
      "19       realme 9 5G (Meteor Black, 128 GB)  ₹15,999    4.4   \n",
      "20          realme C30 (Denim Black, 32 GB)   ₹6,799    4.4   \n",
      "21            realme C30 (Lake Blue, 32 GB)   ₹6,799    4.4   \n",
      "22   realme 9 Pro 5G (Aurora Green, 128 GB)  ₹16,999    4.3   \n",
      "23     vivo T1 5G (Rainbow Fantasy, 128 GB)  ₹15,990    4.3   \n",
      "\n",
      "                                                 link  \n",
      "0   /samsung-galaxy-f22-denim-blue-64-gb/p/itmce0a...  \n",
      "1   /samsung-galaxy-f22-denim-black-64-gb/p/itm6f4...  \n",
      "2   /realme-c31-dark-green-32-gb/p/itme0f2960da9bb...  \n",
      "3   /realme-c31-light-silver-32-gb/p/itme0f2960da9...  \n",
      "4   /realme-9-sunburst-gold-128-gb/p/itm73722a6d35...  \n",
      "5   /samsung-galaxy-f22-denim-blue-128-gb/p/itm30c...  \n",
      "6   /nokia-105-ss/p/itm9ac157d27f741?pid=MOBGC96FV...  \n",
      "7   /realme-c31-light-silver-64-gb/p/itme0f2960da9...  \n",
      "8   /realme-c31-dark-green-64-gb/p/itme0f2960da9bb...  \n",
      "9   /realme-9-sunburst-gold-128-gb/p/itm73722a6d35...  \n",
      "10  /realme-9-5g-stargaze-white-64-gb/p/itm4f3814d...  \n",
      "11  /realme-9-5g-supersonic-blue-64-gb/p/itm4f3814...  \n",
      "12  /realme-9-5g-supersonic-black-64-gb/p/itm4f381...  \n",
      "13  /realme-9i-prism-black-128-gb/p/itm3e9987219f6...  \n",
      "14  /realme-9i-prism-blue-128-gb/p/itm3e9987219f65...  \n",
      "15  /realme-c30-bamboo-green-32-gb/p/itmfcf69b2db5...  \n",
      "16  /realme-c30-bamboo-green-32-gb/p/itmfcf69b2db5...  \n",
      "17  /realme-9-5g-stargaze-white-128-gb/p/itm4f3814...  \n",
      "18  /realme-9-5g-meteor-black-64-gb/p/itm4f3814d50...  \n",
      "19  /realme-9-5g-meteor-black-128-gb/p/itm4f3814d5...  \n",
      "20  /realme-c30-denim-black-32-gb/p/itmfcf69b2db50...  \n",
      "21  /realme-c30-lake-blue-32-gb/p/itmfcf69b2db5059...  \n",
      "22  /realme-9-pro-5g-aurora-green-128-gb/p/itmce35...  \n",
      "23  /vivo-t1-5g-rainbow-fantasy-128-gb/p/itm594222...  \n"
     ]
    }
   ],
   "source": [
    "import pandas as pd\n",
    "df = pd.DataFrame(out)\n",
    "print(df)"
   ]
  }
 ],
 "metadata": {
  "interpreter": {
   "hash": "42ab81f7bc464f20a55e14d3de72fd87bc79b3bed4f7d7669ebfa2365de5b036"
  },
  "kernelspec": {
   "display_name": "Python 3.9.12 ('base')",
   "language": "python",
   "name": "python3"
  },
  "language_info": {
   "codemirror_mode": {
    "name": "ipython",
    "version": 3
   },
   "file_extension": ".py",
   "mimetype": "text/x-python",
   "name": "python",
   "nbconvert_exporter": "python",
   "pygments_lexer": "ipython3",
   "version": "3.9.12"
  },
  "orig_nbformat": 4
 },
 "nbformat": 4,
 "nbformat_minor": 2
}
