{
 "cells": [
  {
   "cell_type": "code",
   "execution_count": 10,
   "metadata": {},
   "outputs": [],
   "source": [
    "from dputils import scrape"
   ]
  },
  {
   "cell_type": "code",
   "execution_count": 11,
   "metadata": {},
   "outputs": [],
   "source": [
    "soup = scrape.get_webpage_data('https://www.ndtv.com/latest')"
   ]
  },
  {
   "cell_type": "code",
   "execution_count": 12,
   "metadata": {},
   "outputs": [],
   "source": [
    "t = {'tag':'div', 'attrs': {'class' : 'lisingNews'}}\n",
    "items = {'tag':'div','attrs': {'class' : 'news_Itm'}}\n",
    "title = {'tag':'h2', 'attrs': {'class' : 'newsHdng'}}\n",
    "deet = {'tag':'span','attrs':{'class':'posted-by'}}\n",
    "summary = {'tag':'p','attrs':{'class':'newsCont'}}"
   ]
  },
  {
   "cell_type": "code",
   "execution_count": 13,
   "metadata": {},
   "outputs": [
    {
     "name": "stdout",
     "output_type": "stream",
     "text": [
      "17 items found\n",
      "Item skipped at index: 3\n",
      "Item skipped at index: 7\n",
      "All items extracted\n",
      "[{'details': 'NDTV Sports Desk   | Tuesday September 13, 2022',\n",
      "  'summary': 'Former India captain Sunil Gavaskar has said that he would play '\n",
      "             'both Pant and Karthik in his playing XI for the upcoming World '\n",
      "             'Cup, and he gave the reasoning, saying risks need to be taken if '\n",
      "             'you want to win a marquee event.',\n",
      "  'title': '\"Would Play Both Rishabh Pant And Dinesh Karthik\": Sunil Gavaskar '\n",
      "           'On T20 World Cup Playing XI'},\n",
      " {'details': 'Manya Singh   | Tuesday September 13, 2022',\n",
      "  'summary': 'Eating Healthy: In this article, we discuss the top reasons why '\n",
      "             'you must add more fibre to your diet.',\n",
      "  'title': \"Healthy Eating: Here's Why You Must Consume Sufficient Fibre \"\n",
      "           'Daily'},\n",
      " {'details': 'Asian News International   | Tuesday September 13, 2022, '\n",
      "             'Kalaburagi (Karnataka)',\n",
      "  'summary': 'Kalaburagi Police in Karnataka have registered a case against '\n",
      "             'the organisers of a Ganesh Mandali and the DJ owner for '\n",
      "             'allegedly playing a provocative song in front of a mosque.',\n",
      "  'title': \"After 'Provocative' Song Played Outside Mosque In Karnataka, Case \"\n",
      "           'Filed'},\n",
      " {'details': 'Jo Constantz and Josh Eidelson, Bloomberg   | Tuesday September '\n",
      "             '13, 2022',\n",
      "  'summary': 'Hundreds of New York Times Co. employees are working from home '\n",
      "             \"this week in defiance of the company's renewed return-to-office \"\n",
      "             'push.',\n",
      "  'title': '\\'We\\'d Rather Have Raises\\': New York Times\\' \"Cute\" Lunchbox '\n",
      "           'Perk Backfires'},\n",
      " {'details': 'Marc Champion, Bloomberg   | Tuesday September 13, 2022',\n",
      "  'summary': \"The extraordinary speed and success of Ukraine's northern \"\n",
      "             'counteroffensive is raising possibilities that few entertained '\n",
      "             'when Russia invaded Ukraine in February: That its military could '\n",
      "             'be defeated, or that it might even collapse.',\n",
      "  'title': \"Ukraine's Successes Raise Hope of Possible Russian Defeat\"},\n",
      " {'details': 'NDTV Sports Desk   | Tuesday September 13, 2022',\n",
      "  'summary': 'Siraj is currently playing his first match for Warwickshire '\n",
      "             'against Somerset in County Championship Division One in '\n",
      "             'Birmingham',\n",
      "  'title': 'Watch: Mohammed Siraj Bamboozles Imam-ul-Haq With Great Delivery '\n",
      "           'In County Match'},\n",
      " {'details': 'Siddhartha Singh and Debjit Chakraborty, Bloomberg   | Tuesday '\n",
      "             'September 13, 2022',\n",
      "  'summary': 'India plans to pay about Rs 200 billion ($2.5 billion) to the '\n",
      "             'state-run fuel retailers, such as Indian Oil Corp., to partly '\n",
      "             'compensate them for losses and keep a check on cooking gas '\n",
      "             'prices.',\n",
      "  'title': 'India Plans To Pay $2.5 Billion to State-Run Fuel Retailers Hit by '\n",
      "           'Oil Costs: Report'},\n",
      " {'details': 'Asian News International   | Tuesday September 13, 2022',\n",
      "  'summary': 'Zendaya already made history in 2020 by becoming the youngest '\n",
      "             'lead actress drama winner (24 at the time)',\n",
      "  'title': 'Emmys 2022: Zendaya Wins Best Actress For Euphoria - Again'},\n",
      " {'details': 'Edited by Arnab Mitra  | Tuesday September 13, 2022',\n",
      "  'summary': 'UP Board 10th, 12th Compartment Result 2022: The candidates can '\n",
      "             'check the 10th, 12th compartment exam result, and download '\n",
      "             'scorecard on the official websites-- upmsp.edu.in and '\n",
      "             'upresults.nic.in',\n",
      "  'title': 'Uttar Pradesh UP Board Announces 10th, 12th Compartment Result '\n",
      "           '2022'},\n",
      " {'details': 'Reported by Mohammed Ghazali, Edited by Chandrajit Mitra  | '\n",
      "             'Tuesday September 13, 2022, Chandigarh',\n",
      "  'summary': 'In yet another bomb hoax threat at a private school in Amritsar, '\n",
      "             'the police have found the role of a student to get a mathematics '\n",
      "             'exam cancelled.',\n",
      "  'title': 'Bomb Hoax At Amritsar School, Student Wanted Math Exam Cancelled: '\n",
      "           'Police'},\n",
      " {'details': 'Reported by Mohammed Ghazali, Edited by Boris Pradhan  | Tuesday '\n",
      "             'September 13, 2022, Chandigarh',\n",
      "  'summary': 'A 19-year-old student of a university in Sonipat was found dead '\n",
      "             'today.',\n",
      "  'title': 'Student, 19, Found Dead At University In Haryana, Family Alleges '\n",
      "           'Ragging'},\n",
      " {'details': 'Edited by Rahul Karunakar  | Tuesday September 13, 2022',\n",
      "  'summary': 'Rupee Today: The Indian currency strengthened sharply against a '\n",
      "             'softer dollar, broadly reflecting a general upswing in risk '\n",
      "             'assets globally.',\n",
      "  'title': 'Rupee Strengthens Sharply Against A Softer Dollar, Despite High '\n",
      "           'Inflation Reading'},\n",
      " {'details': 'Agence France-Presse   | Tuesday September 13, 2022',\n",
      "  'summary': \"Borussia Dortmund know only too well of Erling Haaland's ability \"\n",
      "             'to destroy defences in the Champions League, but the German '\n",
      "             'giants may die by the sword they previously lived by when they '\n",
      "             'visit Manchester City on Wednesday.',\n",
      "  'title': 'Rampant Erling Haaland Set To Show Borussia Dortmund What They Are '\n",
      "           'Missing'},\n",
      " {'details': 'Edited by Arnab Mitra  | Tuesday September 13, 2022',\n",
      "  'summary': 'CAT 2022 Registration: The Common Admission Test will be held on '\n",
      "             'November 27. The application process will be closed tomorrow at '\n",
      "             'iimcat.ac.in',\n",
      "  'title': 'CAT 2022 Registration To End Tomorrow; Important Checklist For '\n",
      "           'Candidates'},\n",
      " {'details': 'Edited by Rahul Karunakar  | Tuesday September 13, 2022',\n",
      "  'summary': 'Stock Market India: Equity benchmarks rose early on Tuesday, '\n",
      "             'extending their winning streak to the fourth straight session, '\n",
      "             'with the bulls taking control amid the brighter mood in global '\n",
      "             'markets.',\n",
      "  'title': 'Nifty Rises Above 18,000 Points For First Time Since April, But '\n",
      "           'Risks Remain'}]\n"
     ]
    }
   ],
   "source": [
    "result = scrape.extract_many(soup, target=t, items=items, title=title, details=deet, summary=summary)\n",
    "from pprint import pprint\n",
    "pprint(result)"
   ]
  },
  {
   "cell_type": "code",
   "execution_count": null,
   "metadata": {},
   "outputs": [],
   "source": []
  }
 ],
 "metadata": {
  "interpreter": {
   "hash": "42ab81f7bc464f20a55e14d3de72fd87bc79b3bed4f7d7669ebfa2365de5b036"
  },
  "kernelspec": {
   "display_name": "Python 3.9.12 ('base')",
   "language": "python",
   "name": "python3"
  },
  "language_info": {
   "codemirror_mode": {
    "name": "ipython",
    "version": 3
   },
   "file_extension": ".py",
   "mimetype": "text/x-python",
   "name": "python",
   "nbconvert_exporter": "python",
   "pygments_lexer": "ipython3",
   "version": "2022.5"
  },
  "orig_nbformat": 4
 },
 "nbformat": 4,
 "nbformat_minor": 2
}
