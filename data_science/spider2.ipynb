{
 "cells": [
  {
   "cell_type": "code",
   "execution_count": 14,
   "metadata": {},
   "outputs": [],
   "source": [
    "from dputils.scrape import extract_many, get_webpage_data"
   ]
  },
  {
   "cell_type": "code",
   "execution_count": 15,
   "metadata": {},
   "outputs": [],
   "source": [
    "url = \"https://www.flipkart.com/search?q=mobiles&otracker=search&otracker1=search&marketplace=FLIPKART&as-show=on&as=off\"\n",
    "soup = get_webpage_data(url)"
   ]
  },
  {
   "cell_type": "code",
   "execution_count": 16,
   "metadata": {},
   "outputs": [],
   "source": [
    "target = {\n",
    "'tag': 'div',\n",
    "'attrs':{'class':'_1YokD2 _3Mn1Gg'}\n",
    "}\n",
    "items = {\n",
    "    'tag': 'div',\n",
    "    'attrs':{'class':'_1AtVbE col-12-12'}\n",
    "}\n",
    "title = {\n",
    "    'tag': 'div',\n",
    "    'attrs':{'class':'_4rR01T'}\n",
    "}\n",
    "price = {\n",
    "    'tag': 'div',\n",
    "    'attrs':{'class':'_30jeq3 _1_WHN1'}\n",
    "}\n",
    "rating = {\n",
    "    'tag': 'div',\n",
    "    'attrs':{'class':'_3LWZlK'}\n",
    "}\n",
    "link = {\n",
    "    'tag': 'a',\n",
    "    'attrs':{'class':'_1fQZEK'},\n",
    "    'output':'href'\n",
    "}"
   ]
  },
  {
   "cell_type": "code",
   "execution_count": 17,
   "metadata": {},
   "outputs": [
    {
     "name": "stdout",
     "output_type": "stream",
     "text": [
      "26 items found\n",
      "Item skipped at index: 3\n",
      "Item skipped at index: 24\n",
      "Item skipped at index: 25\n",
      "All items extracted\n"
     ]
    }
   ],
   "source": [
    "out= extract_many(soup, target=target, items=items, title=title, price=price, rating=rating, link=link)"
   ]
  },
  {
   "cell_type": "code",
   "execution_count": 18,
   "metadata": {},
   "outputs": [
    {
     "name": "stdout",
     "output_type": "stream",
     "text": [
      "[{'title': 'Infinix HOT 12 Play (Champagne Gold, 64 GB)', 'price': '₹8,199', 'rating': '4.3', 'link': '/infinix-hot-12-play-champagne-gold-64-gb/p/itmd9c1091d0a662?pid=MOBGE2KYE4DA7ZPF&lid=LSTMOBGE2KYE4DA7ZPFIXECD0&marketplace=FLIPKART&q=mobiles&store=tyy%2F4io&srno=s_1_1&otracker=search&otracker1=search&fm=organic&iid=2c30c6e4-b31c-4820-9f75-33437186a54f.MOBGE2KYE4DA7ZPF.SEARCH&ppt=None&ppn=None&ssid=63ahgrog800000001663044299267&qH=eb4af0bf07c16429'}, {'title': 'Infinix HOT 12 Play (Horizon Blue, 64 GB)', 'price': '₹8,199', 'rating': '4.3', 'link': '/infinix-hot-12-play-horizon-blue-64-gb/p/itmd9c1091d0a662?pid=MOBGE2KYCFZA7BRB&lid=LSTMOBGE2KYCFZA7BRBUNTJVL&marketplace=FLIPKART&q=mobiles&store=tyy%2F4io&srno=s_1_2&otracker=search&otracker1=search&fm=organic&iid=2c30c6e4-b31c-4820-9f75-33437186a54f.MOBGE2KYCFZA7BRB.SEARCH&ppt=None&ppn=None&ssid=63ahgrog800000001663044299267&qH=eb4af0bf07c16429'}, {'title': 'SAMSUNG Galaxy F22 (Denim Blue, 64 GB)', 'price': '₹11,499', 'rating': '4.3', 'link': '/samsung-galaxy-f22-denim-blue-64-gb/p/itmce0a6baf0d54d?pid=MOBG43UGBTGGB99V&lid=LSTMOBG43UGBTGGB99VLZACSD&marketplace=FLIPKART&q=mobiles&store=tyy%2F4io&srno=s_1_3&otracker=search&otracker1=search&fm=organic&iid=2c30c6e4-b31c-4820-9f75-33437186a54f.MOBG43UGBTGGB99V.SEARCH&ppt=None&ppn=None&ssid=63ahgrog800000001663044299267&qH=eb4af0bf07c16429'}, {'title': 'SAMSUNG Galaxy F22 (Denim Black, 128 GB)', 'price': '₹13,499', 'rating': '4.3', 'link': '/samsung-galaxy-f22-denim-black-128-gb/p/itm9f921a1b4f96c?pid=MOBG43UGFGYU4K4B&lid=LSTMOBG43UGFGYU4K4B0FR1R0&marketplace=FLIPKART&q=mobiles&store=tyy%2F4io&srno=s_1_5&otracker=search&otracker1=search&fm=organic&iid=2c30c6e4-b31c-4820-9f75-33437186a54f.MOBG43UGFGYU4K4B.SEARCH&ppt=None&ppn=None&ssid=63ahgrog800000001663044299267&qH=eb4af0bf07c16429'}, {'title': 'realme C31 (Dark Green, 32 GB)', 'price': '₹8,299', 'rating': '4.6', 'link': '/realme-c31-dark-green-32-gb/p/itme0f2960da9bbb?pid=MOBGCGVAXYT3EGYR&lid=LSTMOBGCGVAXYT3EGYRKW4CXL&marketplace=FLIPKART&q=mobiles&store=tyy%2F4io&srno=s_1_6&otracker=search&otracker1=search&fm=organic&iid=2c30c6e4-b31c-4820-9f75-33437186a54f.MOBGCGVAXYT3EGYR.SEARCH&ppt=None&ppn=None&ssid=63ahgrog800000001663044299267&qH=eb4af0bf07c16429'}, {'title': 'realme C31 (Light Silver, 32 GB)', 'price': '₹8,299', 'rating': '4.6', 'link': '/realme-c31-light-silver-32-gb/p/itme0f2960da9bbb?pid=MOBGCGVA3DANQNQH&lid=LSTMOBGCGVA3DANQNQHVUTE0C&marketplace=FLIPKART&q=mobiles&store=tyy%2F4io&srno=s_1_7&otracker=search&otracker1=search&fm=organic&iid=2c30c6e4-b31c-4820-9f75-33437186a54f.MOBGCGVA3DANQNQH.SEARCH&ppt=None&ppn=None&ssid=63ahgrog800000001663044299267&qH=eb4af0bf07c16429'}, {'title': 'IAIR D24', 'price': '₹1,128', 'rating': '3.8', 'link': '/iair-d24/p/itmebf306660cf33?pid=MOBG9PVRXGNUWPF5&lid=LSTMOBG9PVRXGNUWPF5Q2XTTZ&marketplace=FLIPKART&q=mobiles&store=tyy%2F4io&srno=s_1_8&otracker=search&otracker1=search&fm=organic&iid=en_srCZVaAaWOTzlmxANnVO9yElWinxElpk57%2BDTxyLsqgTDdQT6PeW8kIDmFIwj1M6qhRMjTz6zXMGgoUKe8iu2g%3D%3D&ppt=None&ppn=None&ssid=63ahgrog800000001663044299267&qH=eb4af0bf07c16429'}, {'title': 'Infinix HOT 12 Play (Racing Black, 64 GB)', 'price': '₹8,199', 'rating': '4.3', 'link': '/infinix-hot-12-play-racing-black-64-gb/p/itmd9c1091d0a662?pid=MOBGE2KYNTFHTXUW&lid=LSTMOBGE2KYNTFHTXUWDFJ0XM&marketplace=FLIPKART&q=mobiles&store=tyy%2F4io&srno=s_1_9&otracker=search&otracker1=search&fm=organic&iid=2c30c6e4-b31c-4820-9f75-33437186a54f.MOBGE2KYNTFHTXUW.SEARCH&ppt=None&ppn=None&ssid=63ahgrog800000001663044299267&qH=eb4af0bf07c16429'}, {'title': 'realme 9 (Sunburst Gold, 128 GB)', 'price': '₹14,499', 'rating': '4.4', 'link': '/realme-9-sunburst-gold-128-gb/p/itm73722a6d35d36?pid=MOBGDYSHHVWMECHS&lid=LSTMOBGDYSHHVWMECHSTFXBTZ&marketplace=FLIPKART&q=mobiles&store=tyy%2F4io&srno=s_1_10&otracker=search&otracker1=search&fm=organic&iid=2c30c6e4-b31c-4820-9f75-33437186a54f.MOBGDYSHHVWMECHS.SEARCH&ppt=None&ppn=None&ssid=63ahgrog800000001663044299267&qH=eb4af0bf07c16429'}, {'title': 'IAIR D22', 'price': '₹1,120', 'rating': '4.1', 'link': '/iair-d22/p/itm83a920b185748?pid=MOBG9PVRVURX9KNA&lid=LSTMOBG9PVRVURX9KNAS5H0GM&marketplace=FLIPKART&q=mobiles&store=tyy%2F4io&srno=s_1_11&otracker=search&otracker1=search&fm=organic&iid=en_srCZVaAaWOTzlmxANnVO9yElWinxElpk57%2BDTxyLsqjhPKuE73bs63frN1m1D6%2FnG1XKuO6AGidlWrE7iBbFZQ%3D%3D&ppt=None&ppn=None&ssid=63ahgrog800000001663044299267&qH=eb4af0bf07c16429'}, {'title': 'IAIR D10', 'price': '₹1,072', 'rating': '4.2', 'link': '/iair-d10/p/itm68a13990b3f15?pid=MOBG7CMFC3KG9P3U&lid=LSTMOBG7CMFC3KG9P3UN9LTGZ&marketplace=FLIPKART&q=mobiles&store=tyy%2F4io&srno=s_1_12&otracker=search&otracker1=search&fm=organic&iid=en_srCZVaAaWOTzlmxANnVO9yElWinxElpk57%2BDTxyLsqi78or4QSzwPezGfjayj1UzZd0lOmxzOPxAtNmm%2FD6NLA%3D%3D&ppt=None&ppn=None&ssid=63ahgrog800000001663044299267&qH=eb4af0bf07c16429'}, {'title': 'Infinix HOT 12 Play (Daylight Green, 64 GB)', 'price': '₹8,199', 'rating': '4.3', 'link': '/infinix-hot-12-play-daylight-green-64-gb/p/itmd9c1091d0a662?pid=MOBGE2KY6JUTSNCP&lid=LSTMOBGE2KY6JUTSNCPGWOMYY&marketplace=FLIPKART&q=mobiles&store=tyy%2F4io&srno=s_1_13&otracker=search&otracker1=search&fm=organic&iid=2c30c6e4-b31c-4820-9f75-33437186a54f.MOBGE2KY6JUTSNCP.SEARCH&ppt=None&ppn=None&ssid=63ahgrog800000001663044299267&qH=eb4af0bf07c16429'}, {'title': 'realme C30 (Bamboo Green, 32 GB)', 'price': '₹7,999', 'rating': '4.1', 'link': '/realme-c30-bamboo-green-32-gb/p/itmfcf69b2db5059?pid=MOBGF37GUWGZQYGR&lid=LSTMOBGF37GUWGZQYGRW97HI6&marketplace=FLIPKART&q=mobiles&store=tyy%2F4io&srno=s_1_14&otracker=search&otracker1=search&fm=organic&iid=2c30c6e4-b31c-4820-9f75-33437186a54f.MOBGF37GUWGZQYGR.SEARCH&ppt=None&ppn=None&ssid=63ahgrog800000001663044299267&qH=eb4af0bf07c16429'}, {'title': 'realme 9 (Sunburst Gold, 128 GB)', 'price': '₹17,999', 'rating': '4.4', 'link': '/realme-9-sunburst-gold-128-gb/p/itm73722a6d35d36?pid=MOBGDYSH8EWQZ4XU&lid=LSTMOBGDYSH8EWQZ4XUTALWYH&marketplace=FLIPKART&q=mobiles&store=tyy%2F4io&srno=s_1_15&otracker=search&otracker1=search&fm=organic&iid=2c30c6e4-b31c-4820-9f75-33437186a54f.MOBGDYSH8EWQZ4XU.SEARCH&ppt=None&ppn=None&ssid=63ahgrog800000001663044299267&qH=eb4af0bf07c16429'}, {'title': 'realme C31 (Light Silver, 64 GB)', 'price': '₹9,499', 'rating': '4.4', 'link': '/realme-c31-light-silver-64-gb/p/itme0f2960da9bbb?pid=MOBGCGVAGUHQ9HNJ&lid=LSTMOBGCGVAGUHQ9HNJMCFWUX&marketplace=FLIPKART&q=mobiles&store=tyy%2F4io&srno=s_1_16&otracker=search&otracker1=search&fm=organic&iid=2c30c6e4-b31c-4820-9f75-33437186a54f.MOBGCGVAGUHQ9HNJ.SEARCH&ppt=None&ppn=None&ssid=63ahgrog800000001663044299267&qH=eb4af0bf07c16429'}, {'title': 'realme C31 (Dark Green, 64 GB)', 'price': '₹9,499', 'rating': '4.4', 'link': '/realme-c31-dark-green-64-gb/p/itme0f2960da9bbb?pid=MOBGCGVAZXRCZJNE&lid=LSTMOBGCGVAZXRCZJNENAINFL&marketplace=FLIPKART&q=mobiles&store=tyy%2F4io&srno=s_1_17&otracker=search&otracker1=search&fm=organic&iid=2c30c6e4-b31c-4820-9f75-33437186a54f.MOBGCGVAZXRCZJNE.SEARCH&ppt=None&ppn=None&ssid=63ahgrog800000001663044299267&qH=eb4af0bf07c16429'}, {'title': 'IAIR D41', 'price': '₹1,319', 'rating': '3.7', 'link': '/iair-d41/p/itm0b7495cebc66e?pid=MOBGCNZQMEYADXKH&lid=LSTMOBGCNZQMEYADXKHU6I8G1&marketplace=FLIPKART&q=mobiles&store=tyy%2F4io&srno=s_1_18&otracker=search&otracker1=search&fm=organic&iid=en_srCZVaAaWOTzlmxANnVO9yElWinxElpk57%2BDTxyLsqjF5pJwYcSiqLjlRO8s4rcsDfeblhgdUwPAt1kCe%2B9OLA%3D%3D&ppt=None&ppn=None&ssid=63ahgrog800000001663044299267&qH=eb4af0bf07c16429'}, {'title': 'realme C30 (Denim Black, 32 GB)', 'price': '₹6,799', 'rating': '4.4', 'link': '/realme-c30-denim-black-32-gb/p/itmfcf69b2db5059?pid=MOBGF37G8TGKHFWJ&lid=LSTMOBGF37G8TGKHFWJIST95C&marketplace=FLIPKART&q=mobiles&store=tyy%2F4io&srno=s_1_19&otracker=search&otracker1=search&fm=organic&iid=2c30c6e4-b31c-4820-9f75-33437186a54f.MOBGF37G8TGKHFWJ.SEARCH&ppt=None&ppn=None&ssid=63ahgrog800000001663044299267&qH=eb4af0bf07c16429'}, {'title': 'realme C30 (Lake Blue, 32 GB)', 'price': '₹6,799', 'rating': '4.4', 'link': '/realme-c30-lake-blue-32-gb/p/itmfcf69b2db5059?pid=MOBGF37GTRVMRJVK&lid=LSTMOBGF37GTRVMRJVKRYAJNG&marketplace=FLIPKART&q=mobiles&store=tyy%2F4io&srno=s_1_20&otracker=search&otracker1=search&fm=organic&iid=2c30c6e4-b31c-4820-9f75-33437186a54f.MOBGF37GTRVMRJVK.SEARCH&ppt=None&ppn=None&ssid=63ahgrog800000001663044299267&qH=eb4af0bf07c16429'}, {'title': 'IAIR D23', 'price': '₹1,097', 'rating': '4.1', 'link': '/iair-d23/p/itmfde8fc33dc954?pid=MOBGCNZNZVWYSDGH&lid=LSTMOBGCNZNZVWYSDGH98HP1Z&marketplace=FLIPKART&q=mobiles&store=tyy%2F4io&srno=s_1_21&otracker=search&otracker1=search&fm=organic&iid=en_srCZVaAaWOTzlmxANnVO9yElWinxElpk57%2BDTxyLsqgIxYrWN0IbWrs3POUytw8Cji962Pj0qP%2Fqz8Z5TsYlsw%3D%3D&ppt=None&ppn=None&ssid=63ahgrog800000001663044299267&qH=eb4af0bf07c16429'}, {'title': 'realme C30 (Bamboo Green, 32 GB)', 'price': '₹6,799', 'rating': '4.4', 'link': '/realme-c30-bamboo-green-32-gb/p/itmfcf69b2db5059?pid=MOBGF37G7FRK8FBJ&lid=LSTMOBGF37G7FRK8FBJTETJBD&marketplace=FLIPKART&q=mobiles&store=tyy%2F4io&srno=s_1_22&otracker=search&otracker1=search&fm=organic&iid=2c30c6e4-b31c-4820-9f75-33437186a54f.MOBGF37G7FRK8FBJ.SEARCH&ppt=None&ppn=None&ssid=63ahgrog800000001663044299267&qH=eb4af0bf07c16429'}, {'title': 'realme 9 Pro+ 5G (Aurora Green, 256 GB)', 'price': '₹26,999', 'rating': '4.4', 'link': '/realme-9-pro-5g-aurora-green-256-gb/p/itm15e7a06fe9352?pid=MOBGB5Y3YSRRDSZE&lid=LSTMOBGB5Y3YSRRDSZEORZQ6J&marketplace=FLIPKART&q=mobiles&store=tyy%2F4io&srno=s_1_23&otracker=search&otracker1=search&fm=organic&iid=2c30c6e4-b31c-4820-9f75-33437186a54f.MOBGB5Y3YSRRDSZE.SEARCH&ppt=None&ppn=None&ssid=63ahgrog800000001663044299267&qH=eb4af0bf07c16429'}, {'title': 'realme 9i (Prism Blue, 128 GB)', 'price': '₹12,999', 'rating': '4.5', 'link': '/realme-9i-prism-blue-128-gb/p/itm3e9987219f652?pid=MOBGBMZHMUHYWFAE&lid=LSTMOBGBMZHMUHYWFAEOYWISO&marketplace=FLIPKART&q=mobiles&store=tyy%2F4io&srno=s_1_24&otracker=search&otracker1=search&fm=organic&iid=2c30c6e4-b31c-4820-9f75-33437186a54f.MOBGBMZHMUHYWFAE.SEARCH&ppt=None&ppn=None&ssid=63ahgrog800000001663044299267&qH=eb4af0bf07c16429'}]\n"
     ]
    }
   ],
   "source": [
    "print(out)"
   ]
  },
  {
   "cell_type": "code",
   "execution_count": 19,
   "metadata": {},
   "outputs": [
    {
     "name": "stdout",
     "output_type": "stream",
     "text": [
      "                                          title    price rating  \\\n",
      "0   Infinix HOT 12 Play (Champagne Gold, 64 GB)   ₹8,199    4.3   \n",
      "1     Infinix HOT 12 Play (Horizon Blue, 64 GB)   ₹8,199    4.3   \n",
      "2        SAMSUNG Galaxy F22 (Denim Blue, 64 GB)  ₹11,499    4.3   \n",
      "3      SAMSUNG Galaxy F22 (Denim Black, 128 GB)  ₹13,499    4.3   \n",
      "4                realme C31 (Dark Green, 32 GB)   ₹8,299    4.6   \n",
      "5              realme C31 (Light Silver, 32 GB)   ₹8,299    4.6   \n",
      "6                                      IAIR D24   ₹1,128    3.8   \n",
      "7     Infinix HOT 12 Play (Racing Black, 64 GB)   ₹8,199    4.3   \n",
      "8              realme 9 (Sunburst Gold, 128 GB)  ₹14,499    4.4   \n",
      "9                                      IAIR D22   ₹1,120    4.1   \n",
      "10                                     IAIR D10   ₹1,072    4.2   \n",
      "11  Infinix HOT 12 Play (Daylight Green, 64 GB)   ₹8,199    4.3   \n",
      "12             realme C30 (Bamboo Green, 32 GB)   ₹7,999    4.1   \n",
      "13             realme 9 (Sunburst Gold, 128 GB)  ₹17,999    4.4   \n",
      "14             realme C31 (Light Silver, 64 GB)   ₹9,499    4.4   \n",
      "15               realme C31 (Dark Green, 64 GB)   ₹9,499    4.4   \n",
      "16                                     IAIR D41   ₹1,319    3.7   \n",
      "17              realme C30 (Denim Black, 32 GB)   ₹6,799    4.4   \n",
      "18                realme C30 (Lake Blue, 32 GB)   ₹6,799    4.4   \n",
      "19                                     IAIR D23   ₹1,097    4.1   \n",
      "20             realme C30 (Bamboo Green, 32 GB)   ₹6,799    4.4   \n",
      "21      realme 9 Pro+ 5G (Aurora Green, 256 GB)  ₹26,999    4.4   \n",
      "22               realme 9i (Prism Blue, 128 GB)  ₹12,999    4.5   \n",
      "\n",
      "                                                 link  \n",
      "0   /infinix-hot-12-play-champagne-gold-64-gb/p/it...  \n",
      "1   /infinix-hot-12-play-horizon-blue-64-gb/p/itmd...  \n",
      "2   /samsung-galaxy-f22-denim-blue-64-gb/p/itmce0a...  \n",
      "3   /samsung-galaxy-f22-denim-black-128-gb/p/itm9f...  \n",
      "4   /realme-c31-dark-green-32-gb/p/itme0f2960da9bb...  \n",
      "5   /realme-c31-light-silver-32-gb/p/itme0f2960da9...  \n",
      "6   /iair-d24/p/itmebf306660cf33?pid=MOBG9PVRXGNUW...  \n",
      "7   /infinix-hot-12-play-racing-black-64-gb/p/itmd...  \n",
      "8   /realme-9-sunburst-gold-128-gb/p/itm73722a6d35...  \n",
      "9   /iair-d22/p/itm83a920b185748?pid=MOBG9PVRVURX9...  \n",
      "10  /iair-d10/p/itm68a13990b3f15?pid=MOBG7CMFC3KG9...  \n",
      "11  /infinix-hot-12-play-daylight-green-64-gb/p/it...  \n",
      "12  /realme-c30-bamboo-green-32-gb/p/itmfcf69b2db5...  \n",
      "13  /realme-9-sunburst-gold-128-gb/p/itm73722a6d35...  \n",
      "14  /realme-c31-light-silver-64-gb/p/itme0f2960da9...  \n",
      "15  /realme-c31-dark-green-64-gb/p/itme0f2960da9bb...  \n",
      "16  /iair-d41/p/itm0b7495cebc66e?pid=MOBGCNZQMEYAD...  \n",
      "17  /realme-c30-denim-black-32-gb/p/itmfcf69b2db50...  \n",
      "18  /realme-c30-lake-blue-32-gb/p/itmfcf69b2db5059...  \n",
      "19  /iair-d23/p/itmfde8fc33dc954?pid=MOBGCNZNZVWYS...  \n",
      "20  /realme-c30-bamboo-green-32-gb/p/itmfcf69b2db5...  \n",
      "21  /realme-9-pro-5g-aurora-green-256-gb/p/itm15e7...  \n",
      "22  /realme-9i-prism-blue-128-gb/p/itm3e9987219f65...  \n"
     ]
    }
   ],
   "source": [
    "import pandas as pd\n",
    "df = pd.DataFrame(out)\n",
    "print(df)"
   ]
  },
  {
   "cell_type": "code",
   "execution_count": null,
   "metadata": {},
   "outputs": [],
   "source": []
  }
 ],
 "metadata": {
  "interpreter": {
   "hash": "42ab81f7bc464f20a55e14d3de72fd87bc79b3bed4f7d7669ebfa2365de5b036"
  },
  "kernelspec": {
   "display_name": "Python 3.9.12 64-bit",
   "language": "python",
   "name": "python3"
  },
  "language_info": {
   "codemirror_mode": {
    "name": "ipython",
    "version": 3
   },
   "file_extension": ".py",
   "mimetype": "text/x-python",
   "name": "python",
   "nbconvert_exporter": "python",
   "pygments_lexer": "ipython3",
   "version": "3.9.12"
  },
  "orig_nbformat": 4
 },
 "nbformat": 4,
 "nbformat_minor": 2
}
