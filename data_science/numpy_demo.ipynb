{
 "cells": [
  {
   "cell_type": "code",
   "execution_count": 1,
   "metadata": {},
   "outputs": [],
   "source": [
    "import numpy as np"
   ]
  },
  {
   "cell_type": "code",
   "execution_count": 2,
   "metadata": {},
   "outputs": [
    {
     "data": {
      "text/plain": [
       "array([1, 2, 3, 4, 5])"
      ]
     },
     "execution_count": 2,
     "metadata": {},
     "output_type": "execute_result"
    }
   ],
   "source": [
    "np.array([1,2,3,4,5])"
   ]
  },
  {
   "cell_type": "code",
   "execution_count": 3,
   "metadata": {},
   "outputs": [
    {
     "name": "stdout",
     "output_type": "stream",
     "text": [
      "[2 3 5 1 2 4]\n",
      "total elements => 6\n",
      "dimension wise elements => (6,)\n",
      "dimension count=> 1\n"
     ]
    }
   ],
   "source": [
    "x = np.array([2,3,5,1,2,4])\n",
    "print(x)\n",
    "print('total elements =>', x.size)\n",
    "print('dimension wise elements =>', x.shape)\n",
    "print('dimension count=>', x.ndim)"
   ]
  },
  {
   "cell_type": "code",
   "execution_count": 4,
   "metadata": {},
   "outputs": [
    {
     "name": "stdout",
     "output_type": "stream",
     "text": [
      "[[2 3 5]\n",
      " [1 2 4]]\n",
      "total elements => 6\n",
      "dimension wise elements => (2, 3)\n",
      "dimension count=> 2\n"
     ]
    }
   ],
   "source": [
    "y = np.array([[2,3,5], [1,2,4]])\n",
    "print(y)\n",
    "print('total elements =>', y.size)\n",
    "print('dimension wise elements =>', y.shape)\n",
    "print('dimension count=>', y.ndim)"
   ]
  },
  {
   "cell_type": "code",
   "execution_count": 5,
   "metadata": {},
   "outputs": [
    {
     "name": "stdout",
     "output_type": "stream",
     "text": [
      "[[2 3 5]\n",
      " [1 2 4]\n",
      " [1 2 3]]\n",
      "total elements => 9\n",
      "dimension wise elements => (3, 3)\n",
      "dimension count=> 2\n"
     ]
    }
   ],
   "source": [
    "z = np.array([[2,3,5], [1,2,4], [1,2,3]])\n",
    "print(z)\n",
    "print('total elements =>', z.size)\n",
    "print('dimension wise elements =>', z.shape)\n",
    "print('dimension count=>', z.ndim)"
   ]
  },
  {
   "cell_type": "code",
   "execution_count": 6,
   "metadata": {},
   "outputs": [
    {
     "name": "stdout",
     "output_type": "stream",
     "text": [
      "[[ 1  2  3  4  5  6  7  8  9 10]\n",
      " [ 1  2  3  4  5  6  7  8  9 10]\n",
      " [ 1  2  3  4  5  6  7  8  9 10]\n",
      " [ 1  2  3  4  5  6  7  8  9 10]\n",
      " [ 1  2  3  4  5  6  7  8  9 10]\n",
      " [ 1  2  3  4  5  6  7  8  9 10]\n",
      " [ 1  2  3  4  5  6  7  8  9 10]\n",
      " [ 1  2  3  4  5  6  7  8  9 10]\n",
      " [ 1  2  3  4  5  6  7  8  9 10]\n",
      " [ 1  2  3  4  5  6  7  8  9 10]]\n",
      "total elements => 100\n",
      "dimension wise elements => (10, 10)\n",
      "dimension count=> 2\n"
     ]
    }
   ],
   "source": [
    "p = [1,2,3,4,5,6,7,8,9,10]\n",
    "t = np.array([p,p,p,p,p,p,p,p,p,p])\n",
    "print(t)\n",
    "print('total elements =>', t.size)\n",
    "print('dimension wise elements =>', t.shape)\n",
    "print('dimension count=>', t.ndim)"
   ]
  },
  {
   "cell_type": "code",
   "execution_count": 7,
   "metadata": {},
   "outputs": [
    {
     "data": {
      "text/plain": [
       "(42,)"
      ]
     },
     "execution_count": 7,
     "metadata": {},
     "output_type": "execute_result"
    }
   ],
   "source": [
    "d = np.arange(-10,11,.5)\n",
    "d. shape"
   ]
  },
  {
   "cell_type": "code",
   "execution_count": 8,
   "metadata": {},
   "outputs": [
    {
     "data": {
      "text/plain": [
       "array([[-10. ,  -9.5,  -9. ,  -8.5,  -8. ,  -7.5,  -7. ],\n",
       "       [ -6.5,  -6. ,  -5.5,  -5. ,  -4.5,  -4. ,  -3.5],\n",
       "       [ -3. ,  -2.5,  -2. ,  -1.5,  -1. ,  -0.5,   0. ],\n",
       "       [  0.5,   1. ,   1.5,   2. ,   2.5,   3. ,   3.5],\n",
       "       [  4. ,   4.5,   5. ,   5.5,   6. ,   6.5,   7. ],\n",
       "       [  7.5,   8. ,   8.5,   9. ,   9.5,  10. ,  10.5]])"
      ]
     },
     "execution_count": 8,
     "metadata": {},
     "output_type": "execute_result"
    }
   ],
   "source": [
    "d.reshape(6,7)"
   ]
  },
  {
   "cell_type": "code",
   "execution_count": 9,
   "metadata": {},
   "outputs": [
    {
     "data": {
      "text/plain": [
       "array([[[-10. ,  -9.5,  -9. ,  -8.5,  -8. ,  -7.5,  -7. ],\n",
       "        [ -6.5,  -6. ,  -5.5,  -5. ,  -4.5,  -4. ,  -3.5],\n",
       "        [ -3. ,  -2.5,  -2. ,  -1.5,  -1. ,  -0.5,   0. ]],\n",
       "\n",
       "       [[  0.5,   1. ,   1.5,   2. ,   2.5,   3. ,   3.5],\n",
       "        [  4. ,   4.5,   5. ,   5.5,   6. ,   6.5,   7. ],\n",
       "        [  7.5,   8. ,   8.5,   9. ,   9.5,  10. ,  10.5]]])"
      ]
     },
     "execution_count": 9,
     "metadata": {},
     "output_type": "execute_result"
    }
   ],
   "source": [
    "d.reshape(2,3,7)"
   ]
  },
  {
   "cell_type": "code",
   "execution_count": 10,
   "metadata": {},
   "outputs": [
    {
     "data": {
      "text/plain": [
       "array([1.00000000e+00, 1.12111111e+02, 2.23222222e+02, 3.34333333e+02,\n",
       "       4.45444444e+02, 5.56555556e+02, 6.67666667e+02, 7.78777778e+02,\n",
       "       8.89888889e+02, 1.00100000e+03])"
      ]
     },
     "execution_count": 10,
     "metadata": {},
     "output_type": "execute_result"
    }
   ],
   "source": [
    "a = np.linspace(1,1001,10)\n",
    "a"
   ]
  },
  {
   "cell_type": "code",
   "execution_count": 18,
   "metadata": {},
   "outputs": [
    {
     "data": {
      "text/plain": [
       "array([[2, 1, 3, 3, 1, 2, 3, 1, 3, 1],\n",
       "       [1, 2, 1, 2, 3, 3, 1, 1, 3, 3],\n",
       "       [2, 3, 2, 3, 2, 2, 2, 1, 2, 1],\n",
       "       [3, 2, 3, 1, 3, 2, 3, 3, 2, 3],\n",
       "       [1, 3, 2, 1, 3, 3, 2, 3, 3, 2],\n",
       "       [3, 3, 1, 3, 1, 3, 2, 1, 2, 3],\n",
       "       [3, 1, 2, 1, 3, 2, 1, 1, 3, 2],\n",
       "       [3, 2, 3, 3, 2, 1, 1, 1, 2, 3],\n",
       "       [1, 1, 3, 2, 2, 3, 2, 2, 1, 2],\n",
       "       [2, 1, 3, 3, 3, 3, 1, 1, 1, 3]])"
      ]
     },
     "execution_count": 18,
     "metadata": {},
     "output_type": "execute_result"
    }
   ],
   "source": [
    "d = np.random.randint(1,4,(10,10))\n",
    "d"
   ]
  },
  {
   "cell_type": "code",
   "execution_count": 19,
   "metadata": {},
   "outputs": [
    {
     "name": "stdout",
     "output_type": "stream",
     "text": [
      "[[2 1 3 3 1 2 3 1 3 1]\n",
      " [1 2 1 2 3 3 1 1 3 3]\n",
      " [2 3 2 3 2 2 2 1 2 1]\n",
      " [3 2 3 1 3 2 3 3 2 3]\n",
      " [1 3 2 1 3 3 2 3 3 2]\n",
      " [3 3 1 3 1 3 2 1 2 3]\n",
      " [3 1 2 1 3 2 1 1 3 2]\n",
      " [3 2 3 3 2 1 1 1 2 3]\n",
      " [1 1 3 2 2 3 2 2 1 2]\n",
      " [2 1 3 3 3 3 1 1 1 3]]\n"
     ]
    }
   ],
   "source": [
    "print(d)"
   ]
  },
  {
   "cell_type": "code",
   "execution_count": 20,
   "metadata": {},
   "outputs": [
    {
     "data": {
      "text/plain": [
       "array([2, 1, 3, 3, 3, 3, 1, 1, 1, 3])"
      ]
     },
     "execution_count": 20,
     "metadata": {},
     "output_type": "execute_result"
    }
   ],
   "source": [
    "d[-1]"
   ]
  },
  {
   "cell_type": "code",
   "execution_count": 21,
   "metadata": {},
   "outputs": [
    {
     "data": {
      "text/plain": [
       "2"
      ]
     },
     "execution_count": 21,
     "metadata": {},
     "output_type": "execute_result"
    }
   ],
   "source": [
    "d[3,5]   # d[0][0]"
   ]
  },
  {
   "cell_type": "code",
   "execution_count": 22,
   "metadata": {},
   "outputs": [
    {
     "data": {
      "text/plain": [
       "3"
      ]
     },
     "execution_count": 22,
     "metadata": {},
     "output_type": "execute_result"
    }
   ],
   "source": [
    "d[4,4]"
   ]
  },
  {
   "cell_type": "code",
   "execution_count": 23,
   "metadata": {},
   "outputs": [
    {
     "data": {
      "text/plain": [
       "array([1, 1, 1, 3, 3, 1, 1, 1, 2, 1])"
      ]
     },
     "execution_count": 23,
     "metadata": {},
     "output_type": "execute_result"
    }
   ],
   "source": [
    "d[:, -3]"
   ]
  },
  {
   "cell_type": "code",
   "execution_count": 24,
   "metadata": {},
   "outputs": [
    {
     "data": {
      "text/plain": [
       "array([3, 1, 2, 3, 2])"
      ]
     },
     "execution_count": 24,
     "metadata": {},
     "output_type": "execute_result"
    }
   ],
   "source": [
    "d[:5, 2]   # first five rows of column idx 2"
   ]
  },
  {
   "cell_type": "code",
   "execution_count": 25,
   "metadata": {},
   "outputs": [
    {
     "data": {
      "text/plain": [
       "array([1, 2, 3, 3, 3])"
      ]
     },
     "execution_count": 25,
     "metadata": {},
     "output_type": "execute_result"
    }
   ],
   "source": [
    "d[5:, 2] # last five rows of column idx 2"
   ]
  },
  {
   "cell_type": "code",
   "execution_count": 26,
   "metadata": {},
   "outputs": [
    {
     "data": {
      "text/plain": [
       "array([[2, 1, 3, 3, 1],\n",
       "       [1, 2, 1, 2, 3],\n",
       "       [2, 3, 2, 3, 2],\n",
       "       [3, 2, 3, 1, 3],\n",
       "       [1, 3, 2, 1, 3]])"
      ]
     },
     "execution_count": 26,
     "metadata": {},
     "output_type": "execute_result"
    }
   ],
   "source": [
    "d[:5, :5]"
   ]
  },
  {
   "cell_type": "code",
   "execution_count": 27,
   "metadata": {},
   "outputs": [
    {
     "name": "stdout",
     "output_type": "stream",
     "text": [
      "[[9 3 5]\n",
      " [9 4 6]\n",
      " [2 3 6]] \n",
      " [[8 8 1]\n",
      " [6 4 7]\n",
      " [4 1 4]]\n"
     ]
    }
   ],
   "source": [
    "x = np.random.randint(1,10, (3,3))\n",
    "y = np.random.randint(1,10, (3,3))\n",
    "print(x,'\\n', y)"
   ]
  },
  {
   "cell_type": "code",
   "execution_count": 28,
   "metadata": {},
   "outputs": [
    {
     "data": {
      "text/plain": [
       "array([[17, 11,  6],\n",
       "       [15,  8, 13],\n",
       "       [ 6,  4, 10]])"
      ]
     },
     "execution_count": 28,
     "metadata": {},
     "output_type": "execute_result"
    }
   ],
   "source": [
    "x+y"
   ]
  },
  {
   "cell_type": "code",
   "execution_count": 29,
   "metadata": {},
   "outputs": [
    {
     "data": {
      "text/plain": [
       "array([[ 1, -5,  4],\n",
       "       [ 3,  0, -1],\n",
       "       [-2,  2,  2]])"
      ]
     },
     "execution_count": 29,
     "metadata": {},
     "output_type": "execute_result"
    }
   ],
   "source": [
    "x-y"
   ]
  },
  {
   "cell_type": "code",
   "execution_count": 30,
   "metadata": {},
   "outputs": [
    {
     "data": {
      "text/plain": [
       "array([[72, 24,  5],\n",
       "       [54, 16, 42],\n",
       "       [ 8,  3, 24]])"
      ]
     },
     "execution_count": 30,
     "metadata": {},
     "output_type": "execute_result"
    }
   ],
   "source": [
    "x*y"
   ]
  },
  {
   "cell_type": "code",
   "execution_count": 31,
   "metadata": {},
   "outputs": [
    {
     "data": {
      "text/plain": [
       "array([[1.125     , 0.375     , 5.        ],\n",
       "       [1.5       , 1.        , 0.85714286],\n",
       "       [0.5       , 3.        , 1.5       ]])"
      ]
     },
     "execution_count": 31,
     "metadata": {},
     "output_type": "execute_result"
    }
   ],
   "source": [
    "x/y"
   ]
  },
  {
   "cell_type": "code",
   "execution_count": 32,
   "metadata": {},
   "outputs": [
    {
     "data": {
      "text/plain": [
       "array([[19, 13, 15],\n",
       "       [19, 14, 16],\n",
       "       [12, 13, 16]])"
      ]
     },
     "execution_count": 32,
     "metadata": {},
     "output_type": "execute_result"
    }
   ],
   "source": [
    "x + 10"
   ]
  },
  {
   "cell_type": "code",
   "execution_count": 33,
   "metadata": {},
   "outputs": [
    {
     "data": {
      "text/plain": [
       "array([[-1, -7, -5],\n",
       "       [-1, -6, -4],\n",
       "       [-8, -7, -4]])"
      ]
     },
     "execution_count": 33,
     "metadata": {},
     "output_type": "execute_result"
    }
   ],
   "source": [
    "x - 10"
   ]
  },
  {
   "cell_type": "code",
   "execution_count": 34,
   "metadata": {},
   "outputs": [
    {
     "data": {
      "text/plain": [
       "array([[90, 30, 50],\n",
       "       [90, 40, 60],\n",
       "       [20, 30, 60]])"
      ]
     },
     "execution_count": 34,
     "metadata": {},
     "output_type": "execute_result"
    }
   ],
   "source": [
    "x * 10"
   ]
  },
  {
   "cell_type": "code",
   "execution_count": 35,
   "metadata": {},
   "outputs": [
    {
     "data": {
      "text/plain": [
       "array([[110,  89,  50],\n",
       "       [120,  94,  61],\n",
       "       [ 58,  34,  47]])"
      ]
     },
     "execution_count": 35,
     "metadata": {},
     "output_type": "execute_result"
    }
   ],
   "source": [
    "np.matmul(x,y)"
   ]
  },
  {
   "cell_type": "code",
   "execution_count": 36,
   "metadata": {},
   "outputs": [
    {
     "data": {
      "text/plain": [
       "array([[72, 24,  5],\n",
       "       [54, 16, 42],\n",
       "       [ 8,  3, 24]])"
      ]
     },
     "execution_count": 36,
     "metadata": {},
     "output_type": "execute_result"
    }
   ],
   "source": [
    "x * y"
   ]
  },
  {
   "cell_type": "code",
   "execution_count": 37,
   "metadata": {},
   "outputs": [
    {
     "data": {
      "text/plain": [
       "array([[-37,  31,  48],\n",
       "       [  4, -27,  12],\n",
       "       [  6,  16, -10]])"
      ]
     },
     "execution_count": 37,
     "metadata": {},
     "output_type": "execute_result"
    }
   ],
   "source": [
    "np.cross(x,y)"
   ]
  },
  {
   "cell_type": "code",
   "execution_count": 38,
   "metadata": {},
   "outputs": [
    {
     "data": {
      "text/plain": [
       "array([[9, 3, 5, 8, 8, 1],\n",
       "       [9, 4, 6, 6, 4, 7],\n",
       "       [2, 3, 6, 4, 1, 4]])"
      ]
     },
     "execution_count": 38,
     "metadata": {},
     "output_type": "execute_result"
    }
   ],
   "source": [
    "np.hstack([x,y])"
   ]
  },
  {
   "cell_type": "code",
   "execution_count": 39,
   "metadata": {},
   "outputs": [
    {
     "data": {
      "text/plain": [
       "array([[9, 3, 5],\n",
       "       [9, 4, 6],\n",
       "       [2, 3, 6],\n",
       "       [8, 8, 1],\n",
       "       [6, 4, 7],\n",
       "       [4, 1, 4]])"
      ]
     },
     "execution_count": 39,
     "metadata": {},
     "output_type": "execute_result"
    }
   ],
   "source": [
    "np.vstack([x,y])"
   ]
  },
  {
   "cell_type": "code",
   "execution_count": 40,
   "metadata": {},
   "outputs": [
    {
     "data": {
      "text/plain": [
       "array([[9, 3, 5],\n",
       "       [9, 4, 6],\n",
       "       [2, 3, 6],\n",
       "       [8, 8, 1],\n",
       "       [6, 4, 7],\n",
       "       [4, 1, 4]])"
      ]
     },
     "execution_count": 40,
     "metadata": {},
     "output_type": "execute_result"
    }
   ],
   "source": [
    "np.append(x,y, axis = 0)  # axis 0 is for row wise and  1 for column"
   ]
  },
  {
   "cell_type": "code",
   "execution_count": 41,
   "metadata": {},
   "outputs": [
    {
     "data": {
      "text/plain": [
       "9"
      ]
     },
     "execution_count": 41,
     "metadata": {},
     "output_type": "execute_result"
    }
   ],
   "source": [
    "x.max()"
   ]
  },
  {
   "cell_type": "code",
   "execution_count": 42,
   "metadata": {},
   "outputs": [
    {
     "data": {
      "text/plain": [
       "array([9, 4, 6])"
      ]
     },
     "execution_count": 42,
     "metadata": {},
     "output_type": "execute_result"
    }
   ],
   "source": [
    "x.max(axis = 0)"
   ]
  },
  {
   "cell_type": "code",
   "execution_count": 43,
   "metadata": {},
   "outputs": [
    {
     "data": {
      "text/plain": [
       "array([3, 4, 2])"
      ]
     },
     "execution_count": 43,
     "metadata": {},
     "output_type": "execute_result"
    }
   ],
   "source": [
    "x.min(axis = 1)"
   ]
  },
  {
   "cell_type": "code",
   "execution_count": 44,
   "metadata": {},
   "outputs": [
    {
     "data": {
      "text/plain": [
       "array([9, 3, 5, 9, 4, 6, 2, 3, 6])"
      ]
     },
     "execution_count": 44,
     "metadata": {},
     "output_type": "execute_result"
    }
   ],
   "source": [
    "x.flatten()"
   ]
  },
  {
   "cell_type": "code",
   "execution_count": 45,
   "metadata": {},
   "outputs": [
    {
     "data": {
      "text/plain": [
       "array([3, 3, 3, 3, 3, 3, 3, 3, 3, 3, 3, 3, 3, 3, 3, 3, 3, 3, 3, 3, 3, 3,\n",
       "       3, 3, 3, 3, 3, 3, 3, 3, 3, 3, 3, 3, 3, 3, 3, 3, 3, 3])"
      ]
     },
     "execution_count": 45,
     "metadata": {},
     "output_type": "execute_result"
    }
   ],
   "source": [
    "d[d > 2]   # boolean filter"
   ]
  },
  {
   "cell_type": "code",
   "execution_count": 46,
   "metadata": {},
   "outputs": [
    {
     "data": {
      "text/plain": [
       "array([1, 1, 1, 1, 1, 1, 1, 1, 1, 1, 1, 1, 1, 1, 1, 1, 1, 1, 1, 1, 1, 1,\n",
       "       1, 1, 1, 1, 1, 1, 1, 1])"
      ]
     },
     "execution_count": 46,
     "metadata": {},
     "output_type": "execute_result"
    }
   ],
   "source": [
    "d[d == 1]     # give all the ones"
   ]
  },
  {
   "cell_type": "code",
   "execution_count": null,
   "metadata": {},
   "outputs": [],
   "source": []
  }
 ],
 "metadata": {
  "interpreter": {
   "hash": "42ab81f7bc464f20a55e14d3de72fd87bc79b3bed4f7d7669ebfa2365de5b036"
  },
  "kernelspec": {
   "display_name": "Python 3.9.12 ('base')",
   "language": "python",
   "name": "python3"
  },
  "language_info": {
   "codemirror_mode": {
    "name": "ipython",
    "version": 3
   },
   "file_extension": ".py",
   "mimetype": "text/x-python",
   "name": "python",
   "nbconvert_exporter": "python",
   "pygments_lexer": "ipython3",
   "version": "3.9.12"
  },
  "orig_nbformat": 4
 },
 "nbformat": 4,
 "nbformat_minor": 2
}
